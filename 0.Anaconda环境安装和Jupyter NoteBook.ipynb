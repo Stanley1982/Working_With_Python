{
 "cells": [
  {
   "cell_type": "markdown",
   "metadata": {},
   "source": [
    "# Anaconda环境安装和Jupyter NoteBook"
   ]
  },
  {
   "cell_type": "markdown",
   "metadata": {},
   "source": [
    "Python的一大优势就是可以调用很多库，而库之间有版本和依赖关系，为了简单管理这些依赖关系，建议使用Conda。Anaconda是Conda的一个发行版，在windows系统下可以方便管理这些关系。"
   ]
  },
  {
   "cell_type": "markdown",
   "metadata": {},
   "source": [
    "## Anaconda环境安装"
   ]
  },
  {
   "cell_type": "markdown",
   "metadata": {},
   "source": [
    "### Anaconda下载\n",
    "\n",
    "\n",
    "https://www.anaconda.com/download/"
   ]
  },
  {
   "cell_type": "markdown",
   "metadata": {},
   "source": [
    "### Anaconda安装\n",
    "\n",
    "在windows环境下安装和普通程序没有什么差别，一路Next即可"
   ]
  },
  {
   "cell_type": "markdown",
   "metadata": {},
   "source": [
    "### Conda配置\n",
    "\n",
    "默认的Conda源服务器在国外，访问速度可能不理想，国内可以采用清华源代替。\n",
    "\n",
    "\n",
    "\n",
    "channels:\n",
    "  - https://mirrors.tuna.tsinghua.edu.cn/anaconda/pkgs/free/\n",
    "  - https://mirrors.tuna.tsinghua.edu.cn/anaconda/pkgs/main/\n",
    "  - defaults\n",
    "show_channel_urls: false\n",
    "\n",
    "ssl_verify: false\n"
   ]
  },
  {
   "cell_type": "markdown",
   "metadata": {},
   "source": [
    "Anaconda里面已经包含了Python，以及IDE Spyder，和这里将重点说明的Jupyter NoteBook"
   ]
  },
  {
   "cell_type": "markdown",
   "metadata": {},
   "source": [
    "## Jupyter NoteBook"
   ]
  },
  {
   "cell_type": "markdown",
   "metadata": {},
   "source": [
    "启动jupyter很简单，在运行窗口下运行jupyter-notebook即可启动。建议文件夹下，左Shift+鼠标右键，点击“在此打开命令窗口”，在DOS窗口下输入\n",
    "jupyter-notebook"
   ]
  },
  {
   "attachments": {},
   "cell_type": "markdown",
   "metadata": {},
   "source": [
    "![avatar](pic\\CommandLine.png)"
   ]
  },
  {
   "cell_type": "markdown",
   "metadata": {},
   "source": [
    "为了更好地显示和管理文档，增加目录，通过下面的安装jupyter_contrib_nbextensions\n",
    "\n",
    "conda install -c conda-forge jupyter_contrib_nbextensions"
   ]
  },
  {
   "cell_type": "markdown",
   "metadata": {},
   "source": []
  },
  {
   "cell_type": "code",
   "execution_count": null,
   "metadata": {},
   "outputs": [],
   "source": []
  }
 ],
 "metadata": {
  "kernelspec": {
   "display_name": "Python 3",
   "language": "python",
   "name": "python3"
  },
  "language_info": {
   "codemirror_mode": {
    "name": "ipython",
    "version": 3
   },
   "file_extension": ".py",
   "mimetype": "text/x-python",
   "name": "python",
   "nbconvert_exporter": "python",
   "pygments_lexer": "ipython3",
   "version": "3.6.5"
  },
  "toc": {
   "base_numbering": 1,
   "nav_menu": {},
   "number_sections": true,
   "sideBar": true,
   "skip_h1_title": false,
   "title_cell": "Table of Contents",
   "title_sidebar": "Contents",
   "toc_cell": false,
   "toc_position": {},
   "toc_section_display": true,
   "toc_window_display": true
  }
 },
 "nbformat": 4,
 "nbformat_minor": 2
}
